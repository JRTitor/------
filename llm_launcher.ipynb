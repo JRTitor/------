{
 "cells": [
  {
   "cell_type": "markdown",
   "metadata": {},
   "source": [
    "# Настройка Inference "
   ]
  },
  {
   "cell_type": "code",
   "execution_count": 10,
   "metadata": {},
   "outputs": [],
   "source": [
    "from transformers import AutoTokenizer, AutoModel\n",
    "import transformers\n",
    "from transformers import Conversation\n",
    "import torch\n",
    "from typing import List"
   ]
  },
  {
   "cell_type": "code",
   "execution_count": 11,
   "metadata": {},
   "outputs": [
    {
     "data": {
      "text/plain": [
       "<torch._C.Generator at 0x20e8f7ce030>"
      ]
     },
     "execution_count": 11,
     "metadata": {},
     "output_type": "execute_result"
    }
   ],
   "source": [
    "MODEL_NAME = 'PY007/TinyLlama-1.1B-step-50K-105b'\n",
    "MODEL_TOKENIZER = AutoTokenizer.from_pretrained(MODEL_NAME)\n",
    "DEVICE = 'cuda' if torch.cuda.is_available() else 'cpu'\n",
    "MAX_ANSWER_LEN = 250\n",
    "MIN_ANSWER_LEN = 12\n",
    "RETURN_SENTENCE = 1\n",
    "torch.manual_seed(21)"
   ]
  },
  {
   "cell_type": "code",
   "execution_count": 12,
   "metadata": {},
   "outputs": [],
   "source": [
    "MODEL = AutoModel.from_pretrained(MODEL_NAME)"
   ]
  },
  {
   "cell_type": "code",
   "execution_count": 13,
   "metadata": {},
   "outputs": [
    {
     "data": {
      "text/plain": [
       "'cuda'"
      ]
     },
     "execution_count": 13,
     "metadata": {},
     "output_type": "execute_result"
    }
   ],
   "source": [
    "DEVICE"
   ]
  },
  {
   "cell_type": "code",
   "execution_count": 48,
   "metadata": {},
   "outputs": [
    {
     "name": "stderr",
     "output_type": "stream",
     "text": [
      "WARNING:root:Some parameters are on the meta device device because they were offloaded to the cpu.\n"
     ]
    }
   ],
   "source": [
    "chat_bot = transformers.pipeline(\n",
    "    'conversational',\n",
    "    # model=MODEL,\n",
    "    # device_map=DEVICE,\n",
    "    \n",
    "    # framework='pt',\n",
    "    # eos_token_id=MODEL_TOKENIZER.eos_token_id,\n",
    "    # max_length=MAX_ANSWER_LEN,\n",
    "    # min_length_for_response=MIN_ANSWER_LEN,\n",
    "    # num_return_sequences=RETURN_SENTENCE,\n",
    "    # num_workers=-1,\n",
    "    # torch_dtype='auto',\n",
    "    #return_full_text = False,\n",
    "   # use_fast=True\n",
    "    model=MODEL_NAME,\n",
    "    tokenizer=MODEL_TOKENIZER,\n",
    "    torch_dtype=torch.float16,\n",
    "    device_map=\"auto\",\n",
    "    max_length=MAX_ANSWER_LEN,\n",
    "    min_length_for_response=MIN_ANSWER_LEN,\n",
    "    num_return_sequences=RETURN_SENTENCE\n",
    ")"
   ]
  },
  {
   "cell_type": "code",
   "execution_count": 42,
   "metadata": {},
   "outputs": [],
   "source": [
    "def conversation_loader(conv_array: List[Conversation], pipeline, prompt:str='') -> List:\n",
    "    answers = []\n",
    "    for conv in conv_array:\n",
    "        if not len(prompt):\n",
    "            reply = pipeline(conv)\n",
    "        else:\n",
    "            reply = pipeline(conv, context=prompt)\n",
    "        answers.append(reply.messages[-1][\"content\"])\n",
    "    return answers\n",
    "        "
   ]
  },
  {
   "cell_type": "code",
   "execution_count": 29,
   "metadata": {},
   "outputs": [],
   "source": [
    "def conv_creator(questions:pd.Series) -> List[Conversation]:\n",
    "    conv_array = []\n",
    "    for q in questions:\n",
    "        conv = Conversation(q)\n",
    "        conv_array.append(conv)\n",
    "    return conv_array\n",
    "        "
   ]
  },
  {
   "cell_type": "markdown",
   "metadata": {},
   "source": [
    "# TEST inference"
   ]
  },
  {
   "cell_type": "code",
   "execution_count": 18,
   "metadata": {},
   "outputs": [],
   "source": [
    "import pandas as pd\n"
   ]
  },
  {
   "cell_type": "code",
   "execution_count": 25,
   "metadata": {},
   "outputs": [],
   "source": [
    "df = pd.read_csv('messages/negative_mess.csv', names=['message'])"
   ]
  },
  {
   "cell_type": "code",
   "execution_count": 28,
   "metadata": {},
   "outputs": [
    {
     "name": "stdout",
     "output_type": "stream",
     "text": [
      "This is ridiculous! My order has been stuck on 'preparing' for over 45 minutes.;\n",
      "Seriously? The delivery fee is almost as much as the food itself!;\n",
      "Ugh, the app keeps crashing when I try to place my order.;\n",
      "Why can't I find my favorite restaurant on this delivery app anymore?;\n",
      "The estimated delivery time keeps changing! Now it says it'll be another hour?;\n",
      "I specifically requested utensils and napkins, and they're nowhere to be found.;\n",
      "The food selection on this app is so limited compared to other services.;\n",
      "There's no way to contact the driver directly through the app? That's frustrating.;\n",
      "I keep getting error messages when I try to use a promo code.;\n",
      "The food pictures look amazing, but the reality is so disappointing.;\n",
      "I can't believe they charge extra for dipping sauces! Ridiculous.;\n",
      "This delivery service always seems to forget drinks in my orders.;\n",
      "The 'live tracking' feature barely works. It's impossible to see where my food is.;\n",
      "I never seem to get enough delivery drivers in my area. Long wait times every time!;\n",
      "Ugh, the food is cold and soggy. This delivery took way too long.;\n",
      "The portions are tiny for the price! Not worth the money at all.;\n",
      "This app is so confusing to navigate. It takes forever to find what I'm looking for.;\n",
      "I can't believe they don't offer any customer service support on holidays.;\n",
      "The food arrived completely spilled because the packaging was terrible.;\n",
      "This delivery service keeps recommending restaurants that are way outside my delivery zone.;\n",
      "The 'contact us' section on the app is a joke. There's no way to get a real person.;\n",
      "I keep getting notifications about restaurants with high delivery fees, it's annoying!\n",
      "The delivery drivers never seem to follow my specific delivery instructions.;\n",
      "There are way too many hidden fees on this app. The total cost is always a surprise.;\n",
      "I used to love this service, but lately the food quality has gone way down.;\n",
      "I ordered a burger with no pickles, and guess what? It's covered in pickles!\n",
      "There's no way to leave specific instructions for the restaurant through the app.;\n",
      "This delivery service never seems to have any good deals or coupons available.;\n",
      "I can't believe they canceled my order without even notifying me first!;\n",
      "The food description on the app sounds amazing, but it tastes completely different.;\n",
      "The app keeps prompting me to rate the driver before my food even arrives, weird.;\n",
      "They keep asking me to tip the driver before the delivery is even complete.;\n",
      "I never seem to get enough delivery drivers in my area on weekends.;\n",
      "There's no way to split the bill with friends when ordering through the app.;\n",
      "The 'customer support chat' feature is useless. It takes forever to get a response.;\n",
      "I'm tired of getting spam emails and notifications from this delivery service.;\n",
      "The app keeps asking me to update my payment information, even though it's correct.;\n",
      "They never seem to have my favorite drinks in stock at the restaurants they offer.;\n",
      "The delivery fee is more expensive than the actual cost of my food, come on!;\n",
      "I can't believe they charge extra for contactless delivery during a pandemic.;\n",
      "The app keeps logging me out for no reason. It's so frustrating!;\n",
      "There's no way to filter restaurants by cuisine on this app, makes it hard to choose.;\n",
      "I never seem to get enough delivery drivers in my area late at night.;\n",
      "The 'estimated delivery time' feature is always wildly inaccurate.;\n",
      "This app is constantly glitching and crashing. Needs a major update!;\n",
      "The food arrived completely undercooked! This is a health hazard!;\n",
      "I specifically requested extra sauce, and they completely forgot it.;\n",
      "There's no way to leave a review for the restaurant through the app.;\n"
     ]
    }
   ],
   "source": [
    "for a in df.message:\n",
    "    print(a)"
   ]
  },
  {
   "cell_type": "code",
   "execution_count": 30,
   "metadata": {},
   "outputs": [],
   "source": [
    "conv_array = conv_creator(df.message)"
   ]
  },
  {
   "cell_type": "code",
   "execution_count": 31,
   "metadata": {},
   "outputs": [
    {
     "data": {
      "text/plain": [
       "[Conversation id: cd706f90-ac57-4061-8a00-bf757a13b47c\n",
       " user: This is ridiculous! My order has been stuck on 'preparing' for over 45 minutes.;,\n",
       " Conversation id: 864d716c-dd66-49ee-be10-b6676fc56f30\n",
       " user: Seriously? The delivery fee is almost as much as the food itself!;,\n",
       " Conversation id: 9c91dc48-bfc8-4ea1-8085-a16b68fc4ade\n",
       " user: Ugh, the app keeps crashing when I try to place my order.;,\n",
       " Conversation id: ef9a0ea4-a3dc-4d3a-bbb1-3069ac892d00\n",
       " user: Why can't I find my favorite restaurant on this delivery app anymore?;,\n",
       " Conversation id: 1c667365-b007-47b8-908d-766ae0ff0943\n",
       " user: The estimated delivery time keeps changing! Now it says it'll be another hour?;,\n",
       " Conversation id: d129f385-420a-45b2-be08-093ec76df8b8\n",
       " user: I specifically requested utensils and napkins, and they're nowhere to be found.;,\n",
       " Conversation id: ea1c682f-36a6-44cc-87ae-3504c78d3a0d\n",
       " user: The food selection on this app is so limited compared to other services.;,\n",
       " Conversation id: 79dc085e-7478-4de3-b093-aeb980dafb4f\n",
       " user: There's no way to contact the driver directly through the app? That's frustrating.;,\n",
       " Conversation id: 529f49fb-3099-4541-905d-28712e235c07\n",
       " user: I keep getting error messages when I try to use a promo code.;,\n",
       " Conversation id: f20ba2a2-25aa-4260-8399-c3c040df95b2\n",
       " user: The food pictures look amazing, but the reality is so disappointing.;,\n",
       " Conversation id: 36e5cc8c-b386-4266-a0fd-4c912299378e\n",
       " user: I can't believe they charge extra for dipping sauces! Ridiculous.;,\n",
       " Conversation id: 98fcbde2-5083-45b0-aa6e-d469233d0219\n",
       " user: This delivery service always seems to forget drinks in my orders.;,\n",
       " Conversation id: 77815e5e-04e2-4073-bb8a-537f20e25d92\n",
       " user: The 'live tracking' feature barely works. It's impossible to see where my food is.;,\n",
       " Conversation id: e600f942-4492-402e-ab56-cf29909a7d2b\n",
       " user: I never seem to get enough delivery drivers in my area. Long wait times every time!;,\n",
       " Conversation id: 88300e65-1a19-48c9-a617-32a985e40cbb\n",
       " user: Ugh, the food is cold and soggy. This delivery took way too long.;,\n",
       " Conversation id: 2c7bca74-736c-46ff-8b7e-2b5741ef9870\n",
       " user: The portions are tiny for the price! Not worth the money at all.;,\n",
       " Conversation id: dd97a645-9863-4ee5-a26c-298279606110\n",
       " user: This app is so confusing to navigate. It takes forever to find what I'm looking for.;,\n",
       " Conversation id: f28558ea-4ca2-4d63-b914-ef9c3760102a\n",
       " user: I can't believe they don't offer any customer service support on holidays.;,\n",
       " Conversation id: b734c8bb-600d-45f0-947d-5aa489231977\n",
       " user: The food arrived completely spilled because the packaging was terrible.;,\n",
       " Conversation id: d1df25fa-6478-4284-a65a-b6e520fed7be\n",
       " user: This delivery service keeps recommending restaurants that are way outside my delivery zone.;,\n",
       " Conversation id: 458489e4-ff2b-4d04-9a42-658ae5271b59\n",
       " user: The 'contact us' section on the app is a joke. There's no way to get a real person.;,\n",
       " Conversation id: 4d824bf4-b413-42d3-9e53-51d067852ac2\n",
       " user: I keep getting notifications about restaurants with high delivery fees, it's annoying!,\n",
       " Conversation id: f888be7f-a9ed-459e-aa22-a7c96eb5603e\n",
       " user: The delivery drivers never seem to follow my specific delivery instructions.;,\n",
       " Conversation id: d87d5ea2-93d9-442e-810b-3432c1a31c4c\n",
       " user: There are way too many hidden fees on this app. The total cost is always a surprise.;,\n",
       " Conversation id: db0b6f12-7359-4f47-b13e-bd0bae3d0fff\n",
       " user: I used to love this service, but lately the food quality has gone way down.;,\n",
       " Conversation id: 3f6f24d0-dd99-4d74-9f77-f6d0720d9018\n",
       " user: I ordered a burger with no pickles, and guess what? It's covered in pickles!,\n",
       " Conversation id: aa776c5a-9e5e-4a35-988a-47f1b6cf1ff4\n",
       " user: There's no way to leave specific instructions for the restaurant through the app.;,\n",
       " Conversation id: d85d4c32-5874-44be-ac8f-15a1b4c8c359\n",
       " user: This delivery service never seems to have any good deals or coupons available.;,\n",
       " Conversation id: 63cf8607-5b49-482f-a8e0-f41763c8bbae\n",
       " user: I can't believe they canceled my order without even notifying me first!;,\n",
       " Conversation id: 5d481786-4cf9-4ce2-9185-add24e0f5bfd\n",
       " user: The food description on the app sounds amazing, but it tastes completely different.;,\n",
       " Conversation id: 06dfe97a-a67d-4745-926a-327d648b4539\n",
       " user: The app keeps prompting me to rate the driver before my food even arrives, weird.;,\n",
       " Conversation id: 33f4fea8-dabe-410d-a7ee-5fa627f475a3\n",
       " user: They keep asking me to tip the driver before the delivery is even complete.;,\n",
       " Conversation id: 4797f1b2-648c-49a2-89af-939bc9642cfd\n",
       " user: I never seem to get enough delivery drivers in my area on weekends.;,\n",
       " Conversation id: 0a321f8f-0c8f-4297-a4ca-ca5ca82157e0\n",
       " user: There's no way to split the bill with friends when ordering through the app.;,\n",
       " Conversation id: 8e904425-5bdd-428e-bd8d-7bd15f57b5ba\n",
       " user: The 'customer support chat' feature is useless. It takes forever to get a response.;,\n",
       " Conversation id: 62f042e5-f05f-42f3-bd5a-c895ff48ee22\n",
       " user: I'm tired of getting spam emails and notifications from this delivery service.;,\n",
       " Conversation id: 30c269e0-3230-457f-860e-12c3c132190f\n",
       " user: The app keeps asking me to update my payment information, even though it's correct.;,\n",
       " Conversation id: f0006d46-d627-4588-8032-3bfbe8c2f4c7\n",
       " user: They never seem to have my favorite drinks in stock at the restaurants they offer.;,\n",
       " Conversation id: 038e0d7a-e10d-41ef-94b5-1525a4f771d2\n",
       " user: The delivery fee is more expensive than the actual cost of my food, come on!;,\n",
       " Conversation id: 344ef68e-d107-4095-9489-755427b30964\n",
       " user: I can't believe they charge extra for contactless delivery during a pandemic.;,\n",
       " Conversation id: 7b31fef4-ae07-463b-affb-df332cf4e5a8\n",
       " user: The app keeps logging me out for no reason. It's so frustrating!;,\n",
       " Conversation id: 03f22125-8ded-473c-8c81-4bab972de1f7\n",
       " user: There's no way to filter restaurants by cuisine on this app, makes it hard to choose.;,\n",
       " Conversation id: a7a240e5-44ec-4774-9df1-3f58c71ec567\n",
       " user: I never seem to get enough delivery drivers in my area late at night.;,\n",
       " Conversation id: 0a0d7f54-9658-447e-a88c-961f75d92577\n",
       " user: The 'estimated delivery time' feature is always wildly inaccurate.;,\n",
       " Conversation id: b8ed404f-4f2a-40f2-8884-04dd06ba6c56\n",
       " user: This app is constantly glitching and crashing. Needs a major update!;,\n",
       " Conversation id: 895a609e-5495-4269-9902-46464f8b0234\n",
       " user: The food arrived completely undercooked! This is a health hazard!;,\n",
       " Conversation id: 6a88eacc-c837-4c0a-9d06-8624b99fdadd\n",
       " user: I specifically requested extra sauce, and they completely forgot it.;,\n",
       " Conversation id: d7f9bea2-55ae-49f3-a5f3-cb9b6e48739f\n",
       " user: There's no way to leave a review for the restaurant through the app.;]"
      ]
     },
     "execution_count": 31,
     "metadata": {},
     "output_type": "execute_result"
    }
   ],
   "source": [
    "conv_array"
   ]
  },
  {
   "cell_type": "code",
   "execution_count": 49,
   "metadata": {},
   "outputs": [
    {
     "name": "stderr",
     "output_type": "stream",
     "text": [
      "d:\\anaconda\\Lib\\site-packages\\transformers\\models\\llama\\modeling_llama.py:670: UserWarning: 1Torch was not compiled with flash attention. (Triggered internally at C:\\cb\\pytorch_1000000000000\\work\\aten\\src\\ATen\\native\\transformers\\cuda\\sdp_utils.cpp:263.)\n",
      "  attn_output = torch.nn.functional.scaled_dot_product_attention(\n",
      "--- Logging error ---\n",
      "Traceback (most recent call last):\n",
      "  File \"d:\\anaconda\\Lib\\logging\\__init__.py\", line 1110, in emit\n",
      "    msg = self.format(record)\n",
      "          ^^^^^^^^^^^^^^^^^^^\n",
      "  File \"d:\\anaconda\\Lib\\logging\\__init__.py\", line 953, in format\n",
      "    return fmt.format(record)\n",
      "           ^^^^^^^^^^^^^^^^^^\n",
      "  File \"d:\\anaconda\\Lib\\logging\\__init__.py\", line 687, in format\n",
      "    record.message = record.getMessage()\n",
      "                     ^^^^^^^^^^^^^^^^^^^\n",
      "  File \"d:\\anaconda\\Lib\\logging\\__init__.py\", line 377, in getMessage\n",
      "    msg = msg % self.args\n",
      "          ~~~~^~~~~~~~~~~\n",
      "TypeError: not all arguments converted during string formatting\n",
      "Call stack:\n",
      "  File \"<frozen runpy>\", line 198, in _run_module_as_main\n",
      "  File \"<frozen runpy>\", line 88, in _run_code\n",
      "  File \"d:\\anaconda\\Lib\\site-packages\\ipykernel_launcher.py\", line 17, in <module>\n",
      "    app.launch_new_instance()\n",
      "  File \"d:\\anaconda\\Lib\\site-packages\\traitlets\\config\\application.py\", line 992, in launch_instance\n",
      "    app.start()\n",
      "  File \"d:\\anaconda\\Lib\\site-packages\\ipykernel\\kernelapp.py\", line 701, in start\n",
      "    self.io_loop.start()\n",
      "  File \"d:\\anaconda\\Lib\\site-packages\\tornado\\platform\\asyncio.py\", line 195, in start\n",
      "    self.asyncio_loop.run_forever()\n",
      "  File \"d:\\anaconda\\Lib\\asyncio\\windows_events.py\", line 321, in run_forever\n",
      "    super().run_forever()\n",
      "  File \"d:\\anaconda\\Lib\\asyncio\\base_events.py\", line 607, in run_forever\n",
      "    self._run_once()\n",
      "  File \"d:\\anaconda\\Lib\\asyncio\\base_events.py\", line 1922, in _run_once\n",
      "    handle._run()\n",
      "  File \"d:\\anaconda\\Lib\\asyncio\\events.py\", line 80, in _run\n",
      "    self._context.run(self._callback, *self._args)\n",
      "  File \"d:\\anaconda\\Lib\\site-packages\\ipykernel\\kernelbase.py\", line 534, in dispatch_queue\n",
      "    await self.process_one()\n",
      "  File \"d:\\anaconda\\Lib\\site-packages\\ipykernel\\kernelbase.py\", line 523, in process_one\n",
      "    await dispatch(*args)\n",
      "  File \"d:\\anaconda\\Lib\\site-packages\\ipykernel\\kernelbase.py\", line 429, in dispatch_shell\n",
      "    await result\n",
      "  File \"d:\\anaconda\\Lib\\site-packages\\ipykernel\\kernelbase.py\", line 767, in execute_request\n",
      "    reply_content = await reply_content\n",
      "  File \"d:\\anaconda\\Lib\\site-packages\\ipykernel\\ipkernel.py\", line 429, in do_execute\n",
      "    res = shell.run_cell(\n",
      "  File \"d:\\anaconda\\Lib\\site-packages\\ipykernel\\zmqshell.py\", line 549, in run_cell\n",
      "    return super().run_cell(*args, **kwargs)\n",
      "  File \"d:\\anaconda\\Lib\\site-packages\\IPython\\core\\interactiveshell.py\", line 3051, in run_cell\n",
      "    result = self._run_cell(\n",
      "  File \"d:\\anaconda\\Lib\\site-packages\\IPython\\core\\interactiveshell.py\", line 3106, in _run_cell\n",
      "    result = runner(coro)\n",
      "  File \"d:\\anaconda\\Lib\\site-packages\\IPython\\core\\async_helpers.py\", line 129, in _pseudo_sync_runner\n",
      "    coro.send(None)\n",
      "  File \"d:\\anaconda\\Lib\\site-packages\\IPython\\core\\interactiveshell.py\", line 3311, in run_cell_async\n",
      "    has_raised = await self.run_ast_nodes(code_ast.body, cell_name,\n",
      "  File \"d:\\anaconda\\Lib\\site-packages\\IPython\\core\\interactiveshell.py\", line 3493, in run_ast_nodes\n",
      "    if await self.run_code(code, result, async_=asy):\n",
      "  File \"d:\\anaconda\\Lib\\site-packages\\IPython\\core\\interactiveshell.py\", line 3553, in run_code\n",
      "    exec(code_obj, self.user_global_ns, self.user_ns)\n",
      "  File \"C:\\Users\\jrtit\\AppData\\Local\\Temp\\ipykernel_3752\\2866939533.py\", line 1, in <module>\n",
      "    replies = conversation_loader(conv_array, chat_bot)\n",
      "  File \"C:\\Users\\jrtit\\AppData\\Local\\Temp\\ipykernel_3752\\1081998226.py\", line 5, in conversation_loader\n",
      "    reply = pipeline(conv)\n",
      "  File \"d:\\anaconda\\Lib\\site-packages\\transformers\\pipelines\\conversational.py\", line 287, in __call__\n",
      "    outputs = super().__call__(conversations, num_workers=num_workers, **kwargs)\n",
      "  File \"d:\\anaconda\\Lib\\site-packages\\transformers\\pipelines\\base.py\", line 1167, in __call__\n",
      "    logger.warning_once(\n",
      "  File \"d:\\anaconda\\Lib\\site-packages\\transformers\\utils\\logging.py\", line 329, in warning_once\n",
      "    self.warning(*args, **kwargs)\n",
      "Message: 'You seem to be using the pipelines sequentially on GPU. In order to maximize efficiency please use a dataset'\n",
      "Arguments: (<class 'UserWarning'>,)\n"
     ]
    }
   ],
   "source": [
    "replies = conversation_loader(conv_array, chat_bot)"
   ]
  }
 ],
 "metadata": {
  "kernelspec": {
   "display_name": "base",
   "language": "python",
   "name": "python3"
  },
  "language_info": {
   "codemirror_mode": {
    "name": "ipython",
    "version": 3
   },
   "file_extension": ".py",
   "mimetype": "text/x-python",
   "name": "python",
   "nbconvert_exporter": "python",
   "pygments_lexer": "ipython3",
   "version": "3.11.7"
  }
 },
 "nbformat": 4,
 "nbformat_minor": 2
}
