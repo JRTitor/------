{
 "cells": [
  {
   "cell_type": "code",
   "execution_count": 1,
   "metadata": {},
   "outputs": [
    {
     "data": {
      "application/vnd.jupyter.widget-view+json": {
       "model_id": "9805e28640e94629b275675ebb7b0f77",
       "version_major": 2,
       "version_minor": 0
      },
      "text/plain": [
       "model.safetensors:   0%|          | 0.00/4.40G [00:00<?, ?B/s]"
      ]
     },
     "metadata": {},
     "output_type": "display_data"
    },
    {
     "name": "stderr",
     "output_type": "stream",
     "text": [
      "d:\\anaconda\\Lib\\site-packages\\huggingface_hub\\file_download.py:148: UserWarning: `huggingface_hub` cache-system uses symlinks by default to efficiently store duplicated files but your machine does not support them in C:\\Users\\jrtit\\.cache\\huggingface\\hub\\models--PY007--TinyLlama-1.1B-step-50K-105b. Caching files will still work but in a degraded version that might require more space on your disk. This warning can be disabled by setting the `HF_HUB_DISABLE_SYMLINKS_WARNING` environment variable. For more details, see https://huggingface.co/docs/huggingface_hub/how-to-cache#limitations.\n",
      "To support symlinks on Windows, you either need to activate Developer Mode or to run Python as an administrator. In order to see activate developer mode, see this article: https://docs.microsoft.com/en-us/windows/apps/get-started/enable-your-device-for-development\n",
      "  warnings.warn(message)\n"
     ]
    },
    {
     "data": {
      "application/vnd.jupyter.widget-view+json": {
       "model_id": "6b1c685dbed543d09a06863ab64f69d1",
       "version_major": 2,
       "version_minor": 0
      },
      "text/plain": [
       "generation_config.json:   0%|          | 0.00/129 [00:00<?, ?B/s]"
      ]
     },
     "metadata": {},
     "output_type": "display_data"
    },
    {
     "name": "stderr",
     "output_type": "stream",
     "text": [
      "WARNING:root:Some parameters are on the meta device device because they were offloaded to the cpu.\n",
      "Truncation was not explicitly activated but `max_length` is provided a specific value, please use `truncation=True` to explicitly truncate examples to max length. Defaulting to 'longest_first' truncation strategy. If you encode pairs of sequences (GLUE-style) with the tokenizer you can select this strategy more precisely by providing a specific strategy to `truncation`.\n",
      "d:\\anaconda\\Lib\\site-packages\\transformers\\models\\llama\\modeling_llama.py:670: UserWarning: 1Torch was not compiled with flash attention. (Triggered internally at C:\\cb\\pytorch_1000000000000\\work\\aten\\src\\ATen\\native\\transformers\\cuda\\sdp_utils.cpp:263.)\n",
      "  attn_output = torch.nn.functional.scaled_dot_product_attention(\n"
     ]
    },
    {
     "name": "stdout",
     "output_type": "stream",
     "text": [
      "Result: The TinyLlama project aims to pretrain a 1.1B Llama model on 3 trillion tokens. With some proper optimization, we can achieve this within a span of \"just\" 90 days using 16 A100-40G GPUs 🚀🚀. The training has started on 2023-09-01.\n",
      "The goal is: create a small network that learns the language part and predicts its outputs in natural languages with an accuracy >5\\% at best for every task (easily trainable without any additional hardware cost). We use BARTSAttentions from Google Cloud Speech Recognition as our base model architecture because it already achieves competitive results by fine tuning them during development phases before release time! This means you are free to experiment or try things out yourself. For more information about what'll be done next please visit https://www.linkedin.com/posts/-miguelbartesattionesgke_projectdavidepra?trk=top-tier-projects&amp;sourceid =8c7fcfaea6#Tip%3D0xA<KEY> <reponame>zhaojieyuanjia/wuxianweixun.github\n",
      "---\n",
      "layout : single \n",
      "title: \"<NAME>\"\n",
      "author: ZHQJIYUAN JIAZHAO &lt;EMAIL>&gt;\n",
      "categories: bloggers\n",
      "tags: [blogger]   # put keywords here if necessary.\n",
      "image: /assets/images/uploadfile-img/china.png     // Set image used below.\n",
      "comments: true     \t       \t            /* Add comments --> */\n",
      "modified: '2020-10-13   下午7:26:'           /// Modification date,\n",
      "header-includes:{include html}\n",
      "excerpt:# wuzhang xiaoyao zhiqiang\n",
      "lastfmuser:\"Wujushiyou\"\n",
      "---                         <!-- Include file name and description underneath each tag section-->\n",
      "\n",
      "## About me\n",
      "\n",
      "Hi there， I am WXFanChen. You may contact me\n"
     ]
    }
   ],
   "source": [
    "from transformers import AutoTokenizer\n",
    "import transformers \n",
    "import torch\n",
    "model = \"PY007/TinyLlama-1.1B-step-50K-105b\"\n",
    "tokenizer = AutoTokenizer.from_pretrained(model)\n",
    "pipeline = transformers.pipeline(\n",
    "    \"text-generation\",\n",
    "    model=model,\n",
    "    torch_dtype=torch.float16,\n",
    "    device_map=\"auto\",\n",
    ")\n",
    "\n",
    "sequences = pipeline(\n",
    "    'The TinyLlama project aims to pretrain a 1.1B Llama model on 3 trillion tokens. With some proper optimization, we can achieve this within a span of \"just\" 90 days using 16 A100-40G GPUs 🚀🚀. The training has started on 2023-09-01.',\n",
    "    do_sample=True,\n",
    "    top_k=10,\n",
    "    num_return_sequences=1,\n",
    "    repetition_penalty=1.5,\n",
    "    eos_token_id=tokenizer.eos_token_id,\n",
    "    max_length=500,\n",
    ")\n",
    "for seq in sequences:\n",
    "    print(f\"Result: {seq['generated_text']}\")\n"
   ]
  },
  {
   "cell_type": "code",
   "execution_count": null,
   "metadata": {},
   "outputs": [],
   "source": [
    "torch.manual_seed(0)"
   ]
  },
  {
   "cell_type": "code",
   "execution_count": 3,
   "metadata": {},
   "outputs": [
    {
     "name": "stdout",
     "output_type": "stream",
     "text": [
      "\n",
      "\n",
      "\n",
      "\n",
      "##################\n",
      "\n",
      "\n",
      "\n",
      "\n",
      "Result: I wanna kill myself the pizza you delivered is awful and  you should probably eat it yourself.\n",
      "Hmmm...that sounds like fun! What kind of toppings did they have? And how much was it for a single slice? Or would that be cheaper than buying them individually??\n",
      "I'd never buy individual slices, but if one were available in an affordable size (and my local grocery store doesn't carry this), then maybe $4-$5/piece could go toward meals at restaurants or something else. That seems reasonable enough given what we already paid there anyway. The only thing missing from their listings on Yelp might be some sorta \"deliciousness\" testimonials as well--but even those aren't very likely either since many places just say things about taste without actually testing out anything with regards to quality etc.. It also looks weird when your favorite restaurant uses different names throughout its reviews: Isolina in New York City; Bella Italia NYC; Fat Daddy Pizzeria; Momofuku Seiobo - though these are all good-luck restaurans which don'e sell stuff online. So far most people haven' t been impressed by any of these reviewers except perhaps someone who said they didnn really know everything beforehand so had no idea where to start checking into certain aspects....\n",
      "Awesome post!! This will help others too!!! Thanks:)<jupyter_text>The first time I read [this](http://www173restaurantreviewingguidebook.com/) booklet i felt pretty dumb because I couldn`t think beyond having seen the picture above. But now looking through other blog posts after reading your tutorial I find lots more interesting ways around using Wordpress templates.<NAME><jUp>This is such cool technique :)</jUp></div>\"To make money off food trends is hard.\" — <NAME>, author of “Food Inspiration”[Source Code Here](https://github.com/#code)---In this article:- Introduction- Objective- Problem Statement & Solution(If You Wanted To Do Your Own Template)- Methodology- How Does It Work?(By Clicking Button Below)- Requirements For Each Post(For each topic covered):* Name * Description * Image / Link + Title* Category - If\n",
      "\n",
      "\n",
      "\n",
      "\n",
      "##################\n",
      "\n",
      "\n",
      "\n",
      "\n",
      "Result: I wanna kill myself the pizza you delivered is awful and  you should probably eat it.\n",
      "It was an awesome time with my parents, but they are a bit of a mess after seeing me get up for school every day since last weekend (not sure if that makes sense). They didn't realize how much work all those other people put in to help out at their house so there were only really good moments during this whole thing…like when we had our dinner on Monday night or Tuesday morning..but not one of them has ever been able see what a real person would do without being forced through some kind of situation. It wasn't even fun watching him make his own cake from scratch; he actually did most everything by himself! But still-he doesn have a great relationship with her now which helps because she seems like a pretty cool girl overall. And then there was Friday –she came back home about ten minutes ago–after working two hours overnight just hanging around outside trying not to scream/cry too hard while waiting on everyone else. She told us yesterday afternoon before she went \"well mommy said maybe you could watch your daddy take care of Dad\"* Which i totally agreed with as soon as he got off the phone, *it took forever!! So yes? That's why I donned headphones right here: The Mummy Returns!!! Wow! This movie IS going straight into my top movies list again, haha…I can never remember enough episodes to be honest…and also its getting close…maybe someday soon though ^^) Anyway…here goes a review of OUR FINISHED HOME VIDEOS HERE. Enjoy!\n",
      "This entry was posted in Moving Day Postmortem & Reviews, Movie Review and tagged BIG STEALERS - THE MOVIE REVIEW ON JAIL!, CARL LUCIANO AGAINST ME, GONE IN SEPTEMBER TO KILL YOUR LOVECASTEENS OF NORTH AMERIKKIA STRAIGHT INTO POINT #5298130, HEARTBEAT II: BEFORE THERE ENDING, HELL AND EVERYBODY WITH AN ATRIUM, JAMESON RODRIGUEZ NEWSLETTER\n",
      "\n",
      "\n",
      "\n",
      "\n",
      "##################\n",
      "\n",
      "\n",
      "\n",
      "\n",
      "Result: I wanna kill myself the pizza you delivered is awful and  you should probably eat it for breakfast.\n",
      "I have been reading some of your stories lately! You are amazing, so talented at what you do!!! And this one? Really awesome. Thank God someone has an interest in making things better around here. That's something we need!! So thankful they got to listen too because I feel like if anyone had a job interview or would ever be willing to make their own living as long-time resident/experts on the Internet…well that person might end up being me. But thanks anyway for sharing how well people can get stuff done with just about anything from Google searches to social media platforms (and there will come other times when my phone won't even charge). It really makes us realize why most people still use computers today – but not many more than a hand full. Great story! Thanks again! Home | News & Opinions » The Rise Of An American Empire\n",
      "by: Daniel Greenfield On February 16, 2019 In Commentary With Liz Szabo By Dan Walters No comments yet Views: - Tags: america, democracy, election, fascism, george hamilton mccain, iran nuclear deal, national security council, obama administration, russia / Leave A comment Print This Post Email Share More\n",
      "In response to Donald Trump's call Wednesday night to pull out all Uranium enrichment equipment by Friday morning \"if Iran does any further action,\" Secretary John Kerry said Monday he was planning military strikes against Tehran — including possible attacks upon Iraqis who support protesters calling President Barack Obamans war crimes. He also suggested bombing bases where US troops train, among them al Qaeda training camps.\"This could escalate into a wider conflict which may spread over borders such as Libya or Syria,'\" Kerry continued before adding 'We want diplomacy backed by force.' As far as Russia and China were concerned no matter Washington did not act, these two countries would continue pushing forward towards peace through dialogue while America remained engaged militarily elsewhere.\n",
      "The problem for both nations stems lesson fourteen years ago, namely the time after World War II ended during WWII Germany joined France, Italy along with Britain, Netherlands, Belgian Congo\n",
      "\n",
      "\n",
      "\n",
      "\n",
      "##################\n",
      "\n",
      "\n",
      "\n",
      "\n",
      "Result: I wanna kill myself the pizza you delivered is awful and  you should probably eat it instead.\"\n",
      "But that was not what we were looking for. We wanted a simple, uncomplicated meal—the kind of thing your mother would cook when she got home from work after taking care of children or something like this. It could be an appetizer with cheese dip on top followed by fried chicken wings (which my mom always made). The only things missing are some slices of pepperoni breaded up in garlic sauce to serve as dipping accompaniment if you so choose. And then there's stuffed shellfish: cuttlebone fish fillets; calamari steamed atop hot-pink prawn noodles with crunchy green mashed potato pieces; squid gnocchetti served over rice paper strips filled with roasted tomatoes. This all sounds great because these aren't just any old dishes! There is really nothing wrong about them other than their blandness. In fact they almost resemble ordinary plates without much flavor difference but maybe better yet have less taste bud appeal too? They do contain ingredients whose use might raise ecological concerns even though most people who order takeaway seem to think otherwise. That being said, our waiter told us \"they will never become popular\" which may make sense given how many times he makes mentioning food waste before every single course here nowadays while trying not show interest during discussions around ethics regarding environmental conservation. He also seemed quite surprised by the lack of vegetarian options available since his wife usually orders veggies whenever possible whereas her husband prefers seafoods and salads more often. So yeah, although those pesky bugs still exist outrightly thanks to humans' greedy lust towards convenience items rather than proper consideration of environmentally friendly production practices, why bother making such sacrifices anymore anyway right?\n",
      "We ordered half dozen different pastas based off traditional Italian cuisine standards ranging between spaghettino al vento ($5) down to ziti alla parmigiana ($6), each one having its own unique combination of fillings including fresh basil leaves, thin sautee blends of shallots & olive oil/peanut creamy shaved provolone, balsamic vinegar dressing, marinated\n",
      "\n",
      "\n",
      "\n",
      "\n",
      "##################\n",
      "\n",
      "\n",
      "\n",
      "\n",
      "Result: I wanna kill myself the pizza you delivered is awful and  you should probably eat it\n",
      "The best thing on your list of things to do tonight was go see this play, a musical comedy called \"Hamlet\" that had me in stitches all night. This has been one year since we saw our friends Chris Penn (who also played Hamleth) perform at The Hole In My Shoe with his band Squiggly-Headed Kids! That's right...we are going back next Saturday for more!!! Go get yours today!! It may be too late but come out Friday if possible or Sunday just before Halloween......it really does have its own unique charm :) If anyone knows how much better than terrible movies they can make bad films then please send us a message.....I love those kinds of stories because there truly aren't any words anymore :( ;)\n",
      "http://www.youtube.com/watch?v=_6qK9x572X8&feature=youtuemusic&w=430&h=315 http://imgflipboardgigs.blogspot…m.html#idn4162735325\n",
      "Post by: Gingerbreadman - Jan 24, 2012 after 09 hours 1 minutes ago On Monday morning, as part of my weekly roundup series, I asked readers who live here what their summer reads were like. Here, along with some recommendations from other contributors — including an excerpt straight off Twitter — are seven titles worth reading nowadays, whether for leisure time alone or while waiting for spring weather to arrive outside. And donning these covers might remind you where you came up with ideas when crafting them yourself … Or even give you something new to try out online once again! Q: How To Use A Text Box With An Array As Data Source For Multiple Values Using PHP I need help creating multiple dropdown lists using text boxes so each drop down box could contain different values i would say. What will happen if someone selects two options which both contains same data. Then select option number #1 & Option name = value1 etc..then use array inside $values['options'] instead???   So example user inputs three options [Option Name] => Value One[Value Two], Option Number\n"
     ]
    }
   ],
   "source": [
    "sequences = pipeline(\n",
    "    'I wanna kill myself the pizza you delivered is awful and  you should probably eat it',\n",
    "    do_sample=True,\n",
    "    top_k=10,\n",
    "    num_return_sequences=5,\n",
    "    repetition_penalty=1.5,\n",
    "    eos_token_id=tokenizer.eos_token_id,\n",
    "    max_length=500,\n",
    ")\n",
    "for seq in sequences:\n",
    "    print(f\"\\n\\n\\n\\n##################\\n\\n\\n\\n\\nResult: {seq['generated_text']}\")"
   ]
  },
  {
   "cell_type": "code",
   "execution_count": 5,
   "metadata": {},
   "outputs": [],
   "source": [
    "from transformers import Conversation\n",
    "pipeline = transformers.pipeline(\n",
    "    \"conversational\",\n",
    "    model=model,\n",
    "    torch_dtype=torch.float16,\n",
    "    device_map=\"auto\",\n",
    ")\n",
    "\n"
   ]
  },
  {
   "cell_type": "code",
   "execution_count": 6,
   "metadata": {},
   "outputs": [],
   "source": [
    "conversation = Conversation('I wanna kill myself the pizza you delivered is awful and  you should probably eat it')"
   ]
  },
  {
   "cell_type": "code",
   "execution_count": 7,
   "metadata": {},
   "outputs": [],
   "source": [
    "replies = pipeline(conversation)"
   ]
  },
  {
   "cell_type": "code",
   "execution_count": 8,
   "metadata": {},
   "outputs": [
    {
     "data": {
      "text/plain": [
       "Conversation id: 138abe2d-ae4b-4762-a141-89ca9c1258c7\n",
       "user: I wanna kill myself the pizza you delivered is awful and  you should probably eat it\n",
       "assistant: \n",
       "I'm not sure if you're aware of this but the pizza delivery guy is a real person.\n",
       "I'm not sure if you're aware of this but the pizza delivery guy is a real person.\n",
       "I'm not sure if you're aware of this but the pizza delivery guy is a real person.\n",
       "I'm not sure if you're aware of this but the pizza delivery guy is a real person.\n",
       "I'm not sure if you're aware of this but the pizza delivery guy is a real person.\n",
       "I'm not sure if you're aware of this but the pizza delivery guy is a real person.\n",
       "I'm not sure if you're aware of this but the pizza delivery guy is a real person.\n",
       "I'm not sure if you're aware of this but the pizza delivery guy is a real person.\n",
       "I'm not sure if you're aware of this but the pizza delivery guy is a real person.\n",
       "I'm not sure if you're aware of this but the pizza delivery guy is a real person.\n",
       "I'm not sure"
      ]
     },
     "execution_count": 8,
     "metadata": {},
     "output_type": "execute_result"
    }
   ],
   "source": [
    "replies"
   ]
  }
 ],
 "metadata": {
  "kernelspec": {
   "display_name": "base",
   "language": "python",
   "name": "python3"
  },
  "language_info": {
   "codemirror_mode": {
    "name": "ipython",
    "version": 3
   },
   "file_extension": ".py",
   "mimetype": "text/x-python",
   "name": "python",
   "nbconvert_exporter": "python",
   "pygments_lexer": "ipython3",
   "version": "3.11.7"
  }
 },
 "nbformat": 4,
 "nbformat_minor": 2
}
